{
 "cells": [
  {
   "cell_type": "code",
   "execution_count": 90,
   "metadata": {
    "ExecuteTime": {
     "end_time": "2019-03-16T11:57:53.144403Z",
     "start_time": "2019-03-16T11:57:53.140450Z"
    }
   },
   "outputs": [],
   "source": [
    "import pandas as pd"
   ]
  },
  {
   "cell_type": "code",
   "execution_count": 97,
   "metadata": {
    "ExecuteTime": {
     "end_time": "2019-03-16T12:27:32.872451Z",
     "start_time": "2019-03-16T12:27:32.868499Z"
    }
   },
   "outputs": [],
   "source": [
    "import offline_changepoint_detection as offcd\n",
    "from functools import partial"
   ]
  },
  {
   "cell_type": "code",
   "execution_count": 98,
   "metadata": {
    "ExecuteTime": {
     "end_time": "2019-03-16T12:27:35.647124Z",
     "start_time": "2019-03-16T12:27:35.400450Z"
    }
   },
   "outputs": [],
   "source": [
    "Q, P, Pcp = offcd.offline_changepoint_detection(data, \n",
    "                                                partial(offcd.const_prior, l=(len(data)+1)), offcd.gaussian_obs_log_likelihood, truncate=-40)"
   ]
  },
  {
   "cell_type": "code",
   "execution_count": 111,
   "metadata": {
    "ExecuteTime": {
     "end_time": "2019-03-16T13:35:20.316426Z",
     "start_time": "2019-03-16T13:35:20.265686Z"
    }
   },
   "outputs": [],
   "source": [
    "import online_changepoint_detection as oncd"
   ]
  },
  {
   "cell_type": "code",
   "execution_count": 123,
   "metadata": {
    "ExecuteTime": {
     "end_time": "2019-03-16T13:40:31.539196Z",
     "start_time": "2019-03-16T13:40:31.530598Z"
    }
   },
   "outputs": [],
   "source": [
    "data = np.arange(100) + np.random.normal(10, 5, 100)"
   ]
  },
  {
   "cell_type": "code",
   "execution_count": 124,
   "metadata": {
    "ExecuteTime": {
     "end_time": "2019-03-16T13:40:42.901738Z",
     "start_time": "2019-03-16T13:40:42.642385Z"
    }
   },
   "outputs": [
    {
     "data": {
      "text/plain": [
       "[<matplotlib.lines.Line2D at 0x1f98f2015c0>]"
      ]
     },
     "execution_count": 124,
     "metadata": {},
     "output_type": "execute_result"
    },
    {
     "data": {
      "image/png": "[encoded data removed]",
      "text/plain": [
       "<Figure size 432x288 with 1 Axes>"
      ]
     },
     "metadata": {
      "needs_background": "light"
     },
     "output_type": "display_data"
    }
   ],
   "source": [
    "plt.plot(data)"
   ]
  },
  {
   "cell_type": "code",
   "execution_count": null,
   "metadata": {},
   "outputs": [],
   "source": []
  },
  {
   "cell_type": "code",
   "execution_count": 125,
   "metadata": {
    "ExecuteTime": {
     "end_time": "2019-03-16T13:40:45.486767Z",
     "start_time": "2019-03-16T13:40:45.368298Z"
    }
   },
   "outputs": [],
   "source": [
    "R, maxes = oncd.online_changepoint_detection(data, partial(oncd.constant_hazard, 250), oncd.StudentT(0.1, .01, 1, 0))"
   ]
  },
  {
   "cell_type": "code",
   "execution_count": 126,
   "metadata": {
    "ExecuteTime": {
     "end_time": "2019-03-16T13:40:46.445751Z",
     "start_time": "2019-03-16T13:40:46.437990Z"
    }
   },
   "outputs": [
    {
     "data": {
      "text/plain": [
       "(101, 101)"
      ]
     },
     "execution_count": 126,
     "metadata": {},
     "output_type": "execute_result"
    }
   ],
   "source": [
    "R.shape"
   ]
  },
  {
   "cell_type": "code",
   "execution_count": 128,
   "metadata": {
    "ExecuteTime": {
     "end_time": "2019-03-16T13:40:54.378679Z",
     "start_time": "2019-03-16T13:40:54.068588Z"
    }
   },
   "outputs": [
    {
     "data": {
      "text/plain": [
       "[<matplotlib.lines.Line2D at 0x1f98f2bc438>]"
      ]
     },
     "execution_count": 128,
     "metadata": {},
     "output_type": "execute_result"
    },
    {
     "data": {
      "image/png": "[encoded data removed]",
      "text/plain": [
       "<Figure size 432x288 with 1 Axes>"
      ]
     },
     "metadata": {
      "needs_background": "light"
     },
     "output_type": "display_data"
    }
   ],
   "source": [
    "Nw=10;\n",
    "plt.plot(R[Nw,Nw:-1])"
   ]
  },
  {
   "cell_type": "code",
   "execution_count": null,
   "metadata": {},
   "outputs": [],
   "source": []
  },
  {
   "cell_type": "code",
   "execution_count": 119,
   "metadata": {
    "ExecuteTime": {
     "end_time": "2019-03-16T13:37:37.992238Z",
     "start_time": "2019-03-16T13:37:37.980632Z"
    }
   },
   "outputs": [],
   "source": [
    "def generate_univariate_time_series(num, minl=50, maxl=100):\n",
    "    \"\"\"Generate univariate normal time series.\n",
    "    Args:\n",
    "        num (int): Number of partitions\n",
    "        minl (int): Minimum length of partition\n",
    "        maxl (int): Maximum length of partition\n",
    "    Returns:\n",
    "        partition (int): Number of partitions\n",
    "        data (np.array): Numpy array of data points\n",
    "    \"\"\"\n",
    "    data = np.array([], dtype=np.float64)\n",
    "    partition = np.random.randint(minl, maxl, num)\n",
    "    for p in partition:\n",
    "        mean = np.random.randn()*10\n",
    "        std = np.random.randn()*1\n",
    "        if std < 0:\n",
    "            std *= -1\n",
    "        tdata = np.random.normal(mean, std, p)\n",
    "        data = np.concatenate((data, tdata))\n",
    "    return partition, np.atleast_2d(data).T"
   ]
  },
  {
   "cell_type": "code",
   "execution_count": 120,
   "metadata": {
    "ExecuteTime": {
     "end_time": "2019-03-16T13:37:39.459280Z",
     "start_time": "2019-03-16T13:37:39.450863Z"
    }
   },
   "outputs": [],
   "source": [
    "from __future__ import division\n",
    "import matplotlib.pyplot as plt\n",
    "import numpy as np\n",
    "import seaborn"
   ]
  },
  {
   "cell_type": "code",
   "execution_count": 121,
   "metadata": {
    "ExecuteTime": {
     "end_time": "2019-03-16T13:37:40.216407Z",
     "start_time": "2019-03-16T13:37:40.210289Z"
    }
   },
   "outputs": [],
   "source": [
    "partition, data = generate_univariate_time_series(3,15,30)"
   ]
  },
  {
   "cell_type": "code",
   "execution_count": 45,
   "metadata": {
    "ExecuteTime": {
     "end_time": "2019-03-15T22:47:25.489738Z",
     "start_time": "2019-03-15T22:47:25.477960Z"
    }
   },
   "outputs": [
    {
     "data": {
      "text/plain": [
       "(64, 1)"
      ]
     },
     "execution_count": 45,
     "metadata": {},
     "output_type": "execute_result"
    }
   ],
   "source": [
    "for i in range(23,45):\n",
    "    data[i] +=i"
   ]
  },
  {
   "cell_type": "code",
   "execution_count": 122,
   "metadata": {
    "ExecuteTime": {
     "end_time": "2019-03-16T13:37:43.398264Z",
     "start_time": "2019-03-16T13:37:43.099104Z"
    }
   },
   "outputs": [
    {
     "data": {
      "text/plain": [
       "[<matplotlib.lines.Line2D at 0x1f98f1a2da0>]"
      ]
     },
     "execution_count": 122,
     "metadata": {},
     "output_type": "execute_result"
    },
    {
     "data": {
      "image/png": "[encoded data removed]",
      "text/plain": [
       "<Figure size 432x288 with 1 Axes>"
      ]
     },
     "metadata": {
      "needs_background": "light"
     },
     "output_type": "display_data"
    }
   ],
   "source": [
    "plt.plot(data)"
   ]
  },
  {
   "cell_type": "code",
   "execution_count": null,
   "metadata": {},
   "outputs": [],
   "source": [
    "def divisive(tdata, sig_lvl=0.05, R=199, k=None, min_size=50, alpha=1):\n",
    "    \"\"\"Main method to divide a timeseries into segments.\n",
    "\n",
    "    Args:\n",
    "        tdata (np.ndarray): Numpy array for a multivariate time series.\n",
    "                            Each row is a new observation at different time.\n",
    "        sig_lvl (double):   Significance level required from the permutation test.\n",
    "        R (int):            Number of iterations in the permutation test.\n",
    "        k (int):            Number of segments to divide a timeseries into (optional).\n",
    "        min_size(int):      Minimum size of each segment.\n",
    "        alpha (int):        alpha value in the divergence measure.\n",
    "\n",
    "    Returns:\n",
    "        sol (dict):         Dictionary containing the estimated changepoints and other\n",
    "                            auxiliary information from the algorithm.\n",
    "    \"\"\"\n",
    "    assert not(R < 0 and k is None), \"R must be a non-negative integer.\"\n",
    "    assert not((sig_lvl <=0 or sig_lvl >= 1) and k is None), \"sig_lvl must be a positive real number between 0 and 1.\"\n",
    "    assert not(min_size < 2), \"min_size must be an integer greater than 1.\"\n",
    "    assert not(alpha > 2 or alpha <= 0), \"alpha must be in (0,2].\"\n",
    "\n",
    "    n = len(tdata)\n",
    "    global energy\n",
    "    energy = np.zeros(shape=(n,2), dtype=np.float64)\n",
    "\n",
    "    # If k is provided, no need to perform a permutation test.\n",
    "    if k is None:\n",
    "        k = n\n",
    "    else:\n",
    "        R = 0 #no need to perform a permutation test\n",
    "\n",
    "    changes = np.array([0,n])\n",
    "    sol = dict({'k_hat' : 1})\n",
    "    pvals = np.array([])\n",
    "    permutations = np.array([])\n",
    "\n",
    "    D = pairwise_distances(tdata)\n",
    "    condition = None\n",
    "\n",
    "    while k > 0:\n",
    "        #Find the split point\n",
    "        tmp = split(changes, D, min_size, False)\n",
    "        i = tmp['first']\n",
    "        j = tmp['second']\n",
    "        Estat = tmp['fourth']\n",
    "        tmp = tmp['third']\n",
    "\n",
    "        con = tmp[-1]\n",
    "        if con == -1:\n",
    "            break\n",
    "\n",
    "        result = significance_test(D, R, changes, min_size, Estat)\n",
    "        pval = result[0]\n",
    "        permutations = np.append(permutations, result[1])\n",
    "        pvals = np.append(pvals, pval)\n",
    "\n",
    "        if pval > sig_lvl:\n",
    "            break\n",
    "\n",
    "        changes = tmp\n",
    "        sol['k_hat'] += 1\n",
    "        k -= 1\n",
    "\n",
    "    # Update the return dictionary\n",
    "    tmp = np.sort(changes)\n",
    "    sol['order_found'] = changes\n",
    "    sol['estimates'] = tmp\n",
    "    sol['considered_last'] = con\n",
    "    sol['p_values'] = pvals\n",
    "    sol['permutations'] = permutations\n",
    "    sol['clusters'] = np.array([], dtype=np.int32)\n",
    "\n",
    "    current_cluster = 0\n",
    "    i = 0\n",
    "    for changepoint in sol['estimates']:\n",
    "        while i < changepoint:\n",
    "            sol['clusters'] = np.append(sol['clusters'], current_cluster)\n",
    "            i += 1\n",
    "        current_cluster += 1\n",
    "\n",
    "    print( \"Found {} split points\".format(len(changes)-2))\n",
    "\n",
    "    return sol"
   ]
  },
  {
   "cell_type": "code",
   "execution_count": 80,
   "metadata": {
    "ExecuteTime": {
     "end_time": "2019-03-16T11:36:37.862807Z",
     "start_time": "2019-03-16T11:36:37.857822Z"
    }
   },
   "outputs": [],
   "source": [
    "sig_lvl=0.05\n",
    "R=100\n",
    "alpha=1\n",
    "min_size=10\n",
    "k=None"
   ]
  },
  {
   "cell_type": "code",
   "execution_count": 81,
   "metadata": {
    "ExecuteTime": {
     "end_time": "2019-03-16T11:36:38.554770Z",
     "start_time": "2019-03-16T11:36:38.546796Z"
    }
   },
   "outputs": [
    {
     "data": {
      "text/plain": [
       "(64, 64, (64, 2))"
      ]
     },
     "execution_count": 81,
     "metadata": {},
     "output_type": "execute_result"
    }
   ],
   "source": [
    "n = len(data)\n",
    "\n",
    "energy = np.zeros(shape=(n,2), dtype=np.float64)\n",
    "\n",
    "# If k is provided, no need to perform a permutation test.\n",
    "if k is None:\n",
    "    k = n\n",
    "else:\n",
    "    R = 0 #no need to perform a permutation test\n",
    "n,k, energy.shape"
   ]
  },
  {
   "cell_type": "code",
   "execution_count": 82,
   "metadata": {
    "ExecuteTime": {
     "end_time": "2019-03-16T11:37:00.805386Z",
     "start_time": "2019-03-16T11:37:00.798408Z"
    }
   },
   "outputs": [
    {
     "data": {
      "text/plain": [
       "(64, 64)"
      ]
     },
     "execution_count": 82,
     "metadata": {},
     "output_type": "execute_result"
    }
   ],
   "source": [
    "changes = np.array([0,n])\n",
    "sol = dict({'k_hat' : 1})\n",
    "pvals = np.array([])\n",
    "permutations = np.array([])\n",
    "\n",
    "D = pairwise_distances(data)\n",
    "condition = None\n",
    "D.shape"
   ]
  },
  {
   "cell_type": "code",
   "execution_count": 86,
   "metadata": {
    "ExecuteTime": {
     "end_time": "2019-03-16T11:40:10.453514Z",
     "start_time": "2019-03-16T11:40:10.447491Z"
    }
   },
   "outputs": [
    {
     "data": {
      "text/plain": [
       "(array([ 0, 64]), array([ -1., -inf]))"
      ]
     },
     "execution_count": 86,
     "metadata": {},
     "output_type": "execute_result"
    }
   ],
   "source": [
    "splits = np.sort(changes)\n",
    "best = np.array([-1, -np.inf])\n",
    "ii = -1\n",
    "jj = -1\n",
    "splits, best"
   ]
  },
  {
   "cell_type": "code",
   "execution_count": 87,
   "metadata": {
    "ExecuteTime": {
     "end_time": "2019-03-16T11:42:13.271521Z",
     "start_time": "2019-03-16T11:42:13.252582Z"
    }
   },
   "outputs": [
    {
     "name": "stdout",
     "output_type": "stream",
     "text": [
      "energy 0.0\n",
      "else [ 45.         956.74052441]\n",
      "0 63 [ 45.         956.74052441]\n"
     ]
    }
   ],
   "source": [
    "    for i in range(1,len(splits)):\n",
    "        print('energy', energy[splits[i-1],0])\n",
    "        if energy[splits[i-1],0]:\n",
    "            tmp = np.copy(energy[splits[i-1],])\n",
    "            print('if' , tmp)\n",
    "        else:\n",
    "            tmp = find_split_point(splits[i-1], splits[i]-1, D, min_size)\n",
    "            energy[splits[i-1], 0] = tmp[0]\n",
    "            energy[splits[i-1], 1] = tmp[1]\n",
    "            print('else', tmp)\n",
    "\n",
    "        if tmp[1] > best[1]:\n",
    "            \n",
    "            ii = splits[i-1]\n",
    "            jj = splits[i]-1\n",
    "            best = tmp\n",
    "            print(ii, jj, best)"
   ]
  },
  {
   "cell_type": "code",
   "execution_count": null,
   "metadata": {},
   "outputs": [],
   "source": [
    "    changes = np.append(changes, int(best[0]))\n",
    "    energy[ii, 0] = 0\n",
    "    energy[ii, 1] = 0"
   ]
  },
  {
   "cell_type": "code",
   "execution_count": null,
   "metadata": {},
   "outputs": [],
   "source": []
  },
  {
   "cell_type": "code",
   "execution_count": null,
   "metadata": {},
   "outputs": [],
   "source": []
  },
  {
   "cell_type": "code",
   "execution_count": null,
   "metadata": {},
   "outputs": [],
   "source": []
  },
  {
   "cell_type": "code",
   "execution_count": null,
   "metadata": {},
   "outputs": [],
   "source": []
  },
  {
   "cell_type": "code",
   "execution_count": 33,
   "metadata": {
    "ExecuteTime": {
     "end_time": "2019-03-15T19:49:35.488197Z",
     "start_time": "2019-03-15T19:49:35.470559Z"
    }
   },
   "outputs": [
    {
     "data": {
      "text/plain": [
       "{'first': 0,\n",
       " 'second': 51,\n",
       " 'third': array([ 0, 52, 17]),\n",
       " 'fourth': 457.4144561626539}"
      ]
     },
     "execution_count": 33,
     "metadata": {},
     "output_type": "execute_result"
    }
   ],
   "source": [
    "tmp = split(changes, D, min_size, False)\n",
    "tmp"
   ]
  },
  {
   "cell_type": "code",
   "execution_count": null,
   "metadata": {},
   "outputs": [],
   "source": []
  },
  {
   "cell_type": "code",
   "execution_count": null,
   "metadata": {},
   "outputs": [],
   "source": [
    "while k > 0:\n",
    "    #Find the split point\n",
    "    tmp = split(changes, D, min_size, False)\n",
    "    i = tmp['first']\n",
    "    j = tmp['second']\n",
    "    Estat = tmp['fourth']\n",
    "    tmp = tmp['third']\n",
    "\n",
    "    con = tmp[-1]\n",
    "    if con == -1:\n",
    "        break\n",
    "\n",
    "    result = significance_test(D, R, changes, min_size, Estat)\n",
    "    pval = result[0]\n",
    "    permutations = np.append(permutations, result[1])\n",
    "    pvals = np.append(pvals, pval)\n",
    "\n",
    "    if pval > sig_lvl:\n",
    "        break\n",
    "\n",
    "    changes = tmp\n",
    "    sol['k_hat'] += 1\n",
    "    k -= 1\n",
    "\n",
    "# Update the return dictionary\n",
    "tmp = np.sort(changes)\n",
    "sol['order_found'] = changes\n",
    "sol['estimates'] = tmp\n",
    "sol['considered_last'] = con\n",
    "sol['p_values'] = pvals\n",
    "sol['permutations'] = permutations\n",
    "sol['clusters'] = np.array([], dtype=np.int32)\n",
    "\n",
    "current_cluster = 0\n",
    "i = 0\n",
    "for changepoint in sol['estimates']:\n",
    "    while i < changepoint:\n",
    "        sol['clusters'] = np.append(sol['clusters'], current_cluster)\n",
    "        i += 1\n",
    "    current_cluster += 1\n",
    "\n",
    "print( \"Found {} split points\".format(len(changes)-2))"
   ]
  },
  {
   "cell_type": "code",
   "execution_count": null,
   "metadata": {},
   "outputs": [],
   "source": []
  },
  {
   "cell_type": "code",
   "execution_count": null,
   "metadata": {},
   "outputs": [],
   "source": []
  },
  {
   "cell_type": "markdown",
   "metadata": {},
   "source": [
    "## Check"
   ]
  },
  {
   "cell_type": "code",
   "execution_count": 74,
   "metadata": {
    "ExecuteTime": {
     "end_time": "2019-03-16T11:32:18.942479Z",
     "start_time": "2019-03-16T11:32:17.600599Z"
    }
   },
   "outputs": [
    {
     "name": "stdout",
     "output_type": "stream",
     "text": [
      "Found 4 split points\n"
     ]
    }
   ],
   "source": [
    "sol = divisive(data, sig_lvl=0.05, R=100, alpha=1, min_size=10)"
   ]
  },
  {
   "cell_type": "code",
   "execution_count": 75,
   "metadata": {
    "ExecuteTime": {
     "end_time": "2019-03-16T11:32:29.855822Z",
     "start_time": "2019-03-16T11:32:29.850835Z"
    }
   },
   "outputs": [
    {
     "name": "stdout",
     "output_type": "stream",
     "text": [
      "Changepoints found are [10 21 35 45 64]\n"
     ]
    }
   ],
   "source": [
    "print( \"Changepoints found are {}\".format(sol['estimates'][1:]))"
   ]
  },
  {
   "cell_type": "code",
   "execution_count": 76,
   "metadata": {
    "ExecuteTime": {
     "end_time": "2019-03-16T11:32:30.786559Z",
     "start_time": "2019-03-16T11:32:30.580858Z"
    }
   },
   "outputs": [
    {
     "data": {
      "image/png": "[encoded data removed]",
      "text/plain": [
       "<Figure size 1152x288 with 1 Axes>"
      ]
     },
     "metadata": {
      "needs_background": "light"
     },
     "output_type": "display_data"
    }
   ],
   "source": [
    "fig, ax = plt.subplots(figsize=[16,4])\n",
    "for p in sol['estimates']:\n",
    "    ax.plot([p,p], [np.min(data),np.max(data)],'black')\n",
    "for d in range(1):\n",
    "    ax.plot(data[:,d])"
   ]
  },
  {
   "cell_type": "code",
   "execution_count": null,
   "metadata": {},
   "outputs": [],
   "source": []
  },
  {
   "cell_type": "code",
   "execution_count": null,
   "metadata": {},
   "outputs": [],
   "source": []
  },
  {
   "cell_type": "code",
   "execution_count": null,
   "metadata": {},
   "outputs": [],
   "source": []
  },
  {
   "cell_type": "code",
   "execution_count": null,
   "metadata": {},
   "outputs": [],
   "source": []
  }
 ],
 "metadata": {
  "kernelspec": {
   "display_name": "Python 3",
   "language": "python",
   "name": "python3"
  },
  "language_info": {
   "codemirror_mode": {
    "name": "ipython",
    "version": 3
   },
   "file_extension": ".py",
   "mimetype": "text/x-python",
   "name": "python",
   "nbconvert_exporter": "python",
   "pygments_lexer": "ipython3",
   "version": "3.6.6"
  },
  "varInspector": {
   "cols": {
    "lenName": 16,
    "lenType": 16,
    "lenVar": 40
   },
   "kernels_config": {
    "python": {
     "delete_cmd_postfix": "",
     "delete_cmd_prefix": "del ",
     "library": "var_list.py",
     "varRefreshCmd": "print(var_dic_list())"
    },
    "r": {
     "delete_cmd_postfix": ") ",
     "delete_cmd_prefix": "rm(",
     "library": "var_list.r",
     "varRefreshCmd": "cat(var_dic_list()) "
    }
   },
   "types_to_exclude": [
    "module",
    "function",
    "builtin_function_or_method",
    "instance",
    "_Feature"
   ],
   "window_display": false
  }
 },
 "nbformat": 4,
 "nbformat_minor": 2
}
