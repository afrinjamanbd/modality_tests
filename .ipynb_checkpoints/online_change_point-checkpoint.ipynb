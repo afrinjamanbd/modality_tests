{
 "cells": [
  {
   "cell_type": "code",
   "execution_count": 111,
   "metadata": {
    "ExecuteTime": {
     "end_time": "2019-03-16T16:01:19.406113Z",
     "start_time": "2019-03-16T16:01:19.375877Z"
    }
   },
   "outputs": [],
   "source": [
    "from __future__ import division\n",
    "import numpy as np\n",
    "from scipy import stats\n",
    "import pandas as pd\n",
    "import matplotlib.pyplot as plt\n",
    "from functools import partial\n",
    "import matplotlib.cm as cm\n",
    "\n",
    "def constant_hazard(lam, r):\n",
    "    return 1/lam * np.ones(r.shape)\n",
    "\n",
    "class StudentT:\n",
    "    def __init__(self, alpha, beta, kappa, mu):\n",
    "        self.alpha0 = self.alpha = np.array([alpha])\n",
    "        self.beta0 = self.beta = np.array([beta])\n",
    "        self.kappa0 = self.kappa = np.array([kappa])\n",
    "        self.mu0 = self.mu = np.array([mu])\n",
    "\n",
    "    def pdf(self, data):\n",
    "        return stats.t.pdf(x=data, \n",
    "                           df=2*self.alpha,\n",
    "                           loc=self.mu,\n",
    "                           scale=np.sqrt(self.beta * (self.kappa+1) / (self.alpha *\n",
    "                               self.kappa)))\n",
    "\n",
    "    def update_theta(self, data):\n",
    "        muT0 = np.concatenate((self.mu0, (self.kappa * self.mu + data) / (self.kappa + 1)))\n",
    "        kappaT0 = np.concatenate((self.kappa0, self.kappa + 1.))\n",
    "        alphaT0 = np.concatenate((self.alpha0, self.alpha + 0.5))\n",
    "        betaT0 = np.concatenate((self.beta0, self.beta + (self.kappa * (data -\n",
    "            self.mu)**2) / (2. * (self.kappa + 1.))))\n",
    "        self.mu = muT0\n",
    "        self.kappa = kappaT0\n",
    "        self.alpha = alphaT0\n",
    "        self.beta = betaT0\n",
    "        \n",
    "def online_changepoint_detection(data, hazard_func, observation_likelihood):\n",
    "    maxes = np.zeros(len(data) + 1)\n",
    "    \n",
    "    R = np.zeros((len(data) + 1, len(data) + 1))\n",
    "    R[0, 0] = 1\n",
    "    \n",
    "    for t, x in enumerate(data):\n",
    "        # Evaluate the predictive distribution for the new datum under each of\n",
    "        # the parameters.  This is the standard thing from Bayesian inference.\n",
    "        predprobs = observation_likelihood.pdf(x)\n",
    "        \n",
    "        # Evaluate the hazard function for this interval\n",
    "        H = hazard_func(np.array(range(t+1)))\n",
    "       \n",
    "        # Evaluate the growth probabilities - shift the probabilities down and to\n",
    "        # the right, scaled by the hazard function and the predictive\n",
    "        # probabilities.\n",
    "        R[1:t+2, t+1] = R[0:t+1, t] * predprobs * (1-H)\n",
    "        \n",
    "        # Evaluate the probability that there *was* a changepoint and we're\n",
    "        # accumulating the mass back down at r = 0.\n",
    "        R[0, t+1] = np.sum( R[0:t+1, t] * predprobs * H)\n",
    "        \n",
    "        # Renormalize the run length probabilities for improved numerical\n",
    "        # stability.\n",
    "        R[:, t+1] = R[:, t+1] / np.sum(R[:, t+1])\n",
    "        \n",
    "        # Update the parameter sets for each possible run length.\n",
    "        observation_likelihood.update_theta(x)\n",
    "    \n",
    "        maxes[t] = R[:, t].argmax()\n",
    "    return R, maxes"
   ]
  },
  {
   "cell_type": "code",
   "execution_count": 146,
   "metadata": {
    "ExecuteTime": {
     "end_time": "2019-03-16T16:27:09.742714Z",
     "start_time": "2019-03-16T16:27:09.729441Z"
    }
   },
   "outputs": [],
   "source": [
    "n=40\n",
    "data = np.concatenate( [\n",
    "    np.random.normal(10, 2, n),\n",
    "    np.random.normal(30, 2, n), \n",
    "    np.random.normal(20, 2, n)])\n",
    "plt.plot(data)"
   ]
  },
  {
   "cell_type": "code",
   "execution_count": 152,
   "metadata": {
    "ExecuteTime": {
     "end_time": "2019-03-16T16:27:43.762298Z",
     "start_time": "2019-03-16T16:27:43.709955Z"
    }
   },
   "outputs": [],
   "source": [
    "R, maxes = online_changepoint_detection(data, partial(constant_hazard, 10), StudentT(0.1, .01, 1, 0))"
   ]
  },
  {
   "cell_type": "code",
   "execution_count": 153,
   "metadata": {
    "ExecuteTime": {
     "end_time": "2019-03-16T16:27:47.203365Z",
     "start_time": "2019-03-16T16:27:46.097980Z"
    }
   },
   "outputs": [
    {
     "name": "stderr",
     "output_type": "stream",
     "text": [
      "C:\\Users\\ciort\\Anaconda3\\lib\\site-packages\\ipykernel_launcher.py:9: RuntimeWarning: divide by zero encountered in log\n",
      "  if __name__ == '__main__':\n"
     ]
    },
    {
     "data": {
      "text/plain": [
       "<matplotlib.collections.PolyCollection at 0x27259954358>"
      ]
     },
     "execution_count": 153,
     "metadata": {},
     "output_type": "execute_result"
    },
    {
     "data": {
      "image/png": "[encoded data removed]",
      "text/plain": [
       "<Figure size 432x288 with 1 Axes>"
      ]
     },
     "metadata": {
      "needs_background": "light"
     },
     "output_type": "display_data"
    },
    {
     "data": {
      "image/png": "[encoded data removed]",
      "text/plain": [
       "<Figure size 432x288 with 1 Axes>"
      ]
     },
     "metadata": {
      "needs_background": "light"
     },
     "output_type": "display_data"
    }
   ],
   "source": [
    "Nw=10;\n",
    "plt.plot(R[Nw,Nw:-1])\n",
    "\n",
    "plt.figure()\n",
    "ax = plt.gca()\n",
    "sparsity = 1  # only plot every fifth data for faster display\n",
    "ax.pcolor(np.array(range(0, len(R[:,0]), sparsity)), \n",
    "          np.array(range(0, len(R[:,0]), sparsity)), \n",
    "          -np.log(R[0:-1:sparsity, 0:-1:sparsity]), \n",
    "          cmap=cm.Greys, vmin=0, vmax=30)"
   ]
  },
  {
   "cell_type": "code",
   "execution_count": null,
   "metadata": {},
   "outputs": [],
   "source": []
  },
  {
   "cell_type": "code",
   "execution_count": null,
   "metadata": {},
   "outputs": [],
   "source": []
  }
 ],
 "metadata": {
  "kernelspec": {
   "display_name": "Python 3",
   "language": "python",
   "name": "python3"
  },
  "language_info": {
   "codemirror_mode": {
    "name": "ipython",
    "version": 3
   },
   "file_extension": ".py",
   "mimetype": "text/x-python",
   "name": "python",
   "nbconvert_exporter": "python",
   "pygments_lexer": "ipython3",
   "version": "3.6.6"
  },
  "varInspector": {
   "cols": {
    "lenName": 16,
    "lenType": 16,
    "lenVar": 40
   },
   "kernels_config": {
    "python": {
     "delete_cmd_postfix": "",
     "delete_cmd_prefix": "del ",
     "library": "var_list.py",
     "varRefreshCmd": "print(var_dic_list())"
    },
    "r": {
     "delete_cmd_postfix": ") ",
     "delete_cmd_prefix": "rm(",
     "library": "var_list.r",
     "varRefreshCmd": "cat(var_dic_list()) "
    }
   },
   "types_to_exclude": [
    "module",
    "function",
    "builtin_function_or_method",
    "instance",
    "_Feature"
   ],
   "window_display": false
  }
 },
 "nbformat": 4,
 "nbformat_minor": 2
}
